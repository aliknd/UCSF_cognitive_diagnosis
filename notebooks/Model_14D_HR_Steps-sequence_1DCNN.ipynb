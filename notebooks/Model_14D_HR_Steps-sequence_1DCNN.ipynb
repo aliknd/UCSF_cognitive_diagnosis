{
 "cells": [
  {
   "cell_type": "code",
   "execution_count": 1,
   "id": "aff22c3d-a190-4281-943e-b083ba96f966",
   "metadata": {},
   "outputs": [],
   "source": [
    "import numpy as np\n",
    "import pandas as pd\n",
    "from pathlib import Path\n",
    "\n",
    "from sklearn.model_selection import train_test_split\n",
    "from sklearn.metrics import balanced_accuracy_score, classification_report, confusion_matrix\n",
    "from sklearn.utils.class_weight import compute_class_weight\n",
    "\n",
    "import tensorflow as tf\n",
    "from tensorflow.keras import Sequential\n",
    "from tensorflow.keras.layers import (Conv1D, MaxPooling1D, GlobalAveragePooling1D,\n",
    "                                     Dense, Dropout, BatchNormalization)\n",
    "\n",
    "RANDOM_STATE = 42\n",
    "DATA_DIR = Path(\".\")\n",
    "HR_FILE   = DATA_DIR / \"heartrate_15min.csv\"\n",
    "DX_FILE   = DATA_DIR / \"Diagnoses_20250404.csv\"\n"
   ]
  },
  {
   "cell_type": "code",
   "execution_count": 3,
   "id": "5642fb21-d54a-4b13-9912-d812341c9aa4",
   "metadata": {},
   "outputs": [
    {
     "name": "stdout",
     "output_type": "stream",
     "text": [
      "Sequence shape : (192, 1344) |  positives : 70\n"
     ]
    }
   ],
   "source": [
    "# ---- load diagnoses -------------------------------------------------\n",
    "diag = (pd.read_csv(DX_FILE, parse_dates=[\"DCDate.diagnosis_baseline\"])\n",
    "          .rename(columns={\"DCDate.diagnosis_baseline\": \"BaselineDate\"})\n",
    "          .dropna(subset=[\"BaselineDate\"])\n",
    "          [[\"PIDN\", \"BaselineDate\", \"Diagnosis_baseline_3groups\"]])\n",
    "\n",
    "# ---- load HR --------------------------------------------------------\n",
    "hr = pd.read_csv(HR_FILE, parse_dates=[\"Time\"])\n",
    "hr = hr[hr.PIDN.isin(diag.PIDN)]\n",
    "\n",
    "hr = hr.merge(diag[[\"PIDN\", \"BaselineDate\"]], on=\"PIDN\", how=\"left\")\n",
    "assert hr[\"BaselineDate\"].notna().all()\n",
    "\n",
    "# ---- helper to make a 1344-long vector ------------------------------\n",
    "def hr_to_seq(grp, n_days=14):\n",
    "    \"\"\"Return a zero-filled 1-D array (1344,) for this participant.\"\"\"\n",
    "    bdate = grp[\"BaselineDate\"].iloc[0].date()\n",
    "    after = grp[grp.Time.dt.date >= bdate]\n",
    "    start = after.Time.min() if not after.empty else grp.Time.min()\n",
    "    # full 14-day index at 15-min cadence\n",
    "    full_index = pd.date_range(start=start.floor(\"D\"),\n",
    "                               periods=96*n_days, freq=\"15min\")\n",
    "    seq = (grp.set_index(\"Time\")\n",
    "          .reindex(full_index)[\"Value\"]\n",
    "          .ffill(limit=1)        # forward-fill tiny gaps\n",
    "          .bfill(limit=1)        # backward-fill tiny gaps   ◀︎ new style\n",
    "          .fillna(grp[\"Value\"].median()))\n",
    "\n",
    "    # normalise per participant (z-score)\n",
    "    seq = (seq - seq.mean()) / (seq.std(ddof=0) + 1e-6)\n",
    "    return seq.to_numpy(dtype=np.float32)\n",
    "\n",
    "# ---- build the dataset ---------------------------------------------\n",
    "seqs, labels = [], []\n",
    "for pid, g in hr.groupby(\"PIDN\"):\n",
    "    seqs.append(hr_to_seq(g))\n",
    "    labels.append(diag.loc[diag.PIDN == pid,\n",
    "                           \"Diagnosis_baseline_3groups\"].iloc[0])\n",
    "\n",
    "X_seq = np.stack(seqs)                       # shape (n, 1344)\n",
    "y_bin = (pd.Series(labels) != \"Clinically Normal\").astype(int).to_numpy()\n",
    "\n",
    "print(\"Sequence shape :\", X_seq.shape, \"|  positives :\", y_bin.sum())\n"
   ]
  },
  {
   "cell_type": "code",
   "execution_count": 5,
   "id": "e88c3b19-16d5-4372-9893-522797988bcf",
   "metadata": {},
   "outputs": [
    {
     "name": "stdout",
     "output_type": "stream",
     "text": [
      "Class weights : {0: np.float64(0.788659793814433), 1: np.float64(1.3660714285714286)}\n"
     ]
    }
   ],
   "source": [
    "# ================================================================\n",
    "# CELL 2 · Train / test split  +  class-weight calculation\n",
    "# (run after CELL 1 where X_seq  and y_bin are created)\n",
    "# ================================================================\n",
    "\n",
    "from sklearn.model_selection import train_test_split\n",
    "from sklearn.utils.class_weight import compute_class_weight\n",
    "import numpy as np\n",
    "\n",
    "# ---- 1.  stratified 20 % hold-out ------------------------------------\n",
    "X_train, X_test, y_train, y_test = train_test_split(\n",
    "    X_seq, y_bin,\n",
    "    test_size=0.20,\n",
    "    stratify=y_bin,\n",
    "    random_state=42\n",
    ")\n",
    "\n",
    "# ---- 2.  add channel dimension for Conv1D  ---------------------------\n",
    "# shapes:  (n_train, 1344, 1)   and   (n_test, 1344, 1)\n",
    "X_train = X_train[..., None]\n",
    "X_test  = X_test [..., None]\n",
    "\n",
    "# ---- 3.  compute class weights (sklearn ≥ 1.2 needs ndarray) ---------\n",
    "classes = np.array([0, 1])\n",
    "cw_vals = compute_class_weight(class_weight=\"balanced\",\n",
    "                               classes=classes,\n",
    "                               y=y_train)\n",
    "class_weights = {0: cw_vals[0], 1: cw_vals[1]}\n",
    "print(\"Class weights :\", class_weights)\n"
   ]
  },
  {
   "cell_type": "code",
   "execution_count": 10,
   "id": "ad65ab74-dbc6-4f5e-9b98-82cfaf474ba9",
   "metadata": {},
   "outputs": [],
   "source": [
    "from tensorflow.keras.regularizers import l2\n",
    "tf.keras.utils.set_random_seed(42)\n",
    "\n",
    "model = Sequential([\n",
    "    Input(shape=(1344,1)),\n",
    "    Conv1D(32, 7, strides=2, activation=\"relu\",\n",
    "           kernel_regularizer=l2(1e-4)),\n",
    "    MaxPooling1D(2),\n",
    "    Conv1D(64, 5, activation=\"relu\",\n",
    "           kernel_regularizer=l2(1e-4)),\n",
    "    GlobalAveragePooling1D(),\n",
    "    Dropout(0.5),\n",
    "    Dense(1, activation=\"sigmoid\")\n",
    "])\n",
    "model.compile(optimizer=tf.keras.optimizers.Adam(1e-3),\n",
    "              loss=\"binary_crossentropy\",\n",
    "              metrics=[\"accuracy\"])\n"
   ]
  },
  {
   "cell_type": "code",
   "execution_count": 11,
   "id": "e508595c-3d25-4e0b-9746-c4641d01c307",
   "metadata": {},
   "outputs": [
    {
     "name": "stdout",
     "output_type": "stream",
     "text": [
      "Epoch 1/100\n",
      "\u001b[1m5/5\u001b[0m \u001b[32m━━━━━━━━━━━━━━━━━━━━\u001b[0m\u001b[37m\u001b[0m \u001b[1m1s\u001b[0m 38ms/step - accuracy: 0.3984 - loss: 0.6986 - val_accuracy: 0.3913 - val_loss: 0.7036\n",
      "Epoch 2/100\n",
      "\u001b[1m5/5\u001b[0m \u001b[32m━━━━━━━━━━━━━━━━━━━━\u001b[0m\u001b[37m\u001b[0m \u001b[1m0s\u001b[0m 14ms/step - accuracy: 0.6135 - loss: 0.6964 - val_accuracy: 0.4348 - val_loss: 0.7119\n",
      "Epoch 3/100\n",
      "\u001b[1m5/5\u001b[0m \u001b[32m━━━━━━━━━━━━━━━━━━━━\u001b[0m\u001b[37m\u001b[0m \u001b[1m0s\u001b[0m 14ms/step - accuracy: 0.5992 - loss: 0.6844 - val_accuracy: 0.4348 - val_loss: 0.7143\n",
      "Epoch 4/100\n",
      "\u001b[1m5/5\u001b[0m \u001b[32m━━━━━━━━━━━━━━━━━━━━\u001b[0m\u001b[37m\u001b[0m \u001b[1m0s\u001b[0m 14ms/step - accuracy: 0.7026 - loss: 0.6846 - val_accuracy: 0.4348 - val_loss: 0.7151\n",
      "Epoch 5/100\n",
      "\u001b[1m5/5\u001b[0m \u001b[32m━━━━━━━━━━━━━━━━━━━━\u001b[0m\u001b[37m\u001b[0m \u001b[1m0s\u001b[0m 14ms/step - accuracy: 0.6298 - loss: 0.6938 - val_accuracy: 0.4348 - val_loss: 0.7151\n",
      "Epoch 6/100\n",
      "\u001b[1m5/5\u001b[0m \u001b[32m━━━━━━━━━━━━━━━━━━━━\u001b[0m\u001b[37m\u001b[0m \u001b[1m0s\u001b[0m 13ms/step - accuracy: 0.6135 - loss: 0.6915 - val_accuracy: 0.3913 - val_loss: 0.7129\n",
      "Epoch 7/100\n",
      "\u001b[1m5/5\u001b[0m \u001b[32m━━━━━━━━━━━━━━━━━━━━\u001b[0m\u001b[37m\u001b[0m \u001b[1m0s\u001b[0m 13ms/step - accuracy: 0.5111 - loss: 0.7009 - val_accuracy: 0.3913 - val_loss: 0.7087\n",
      "Epoch 8/100\n",
      "\u001b[1m5/5\u001b[0m \u001b[32m━━━━━━━━━━━━━━━━━━━━\u001b[0m\u001b[37m\u001b[0m \u001b[1m0s\u001b[0m 13ms/step - accuracy: 0.5530 - loss: 0.6939 - val_accuracy: 0.4348 - val_loss: 0.7041\n",
      "Epoch 9/100\n",
      "\u001b[1m5/5\u001b[0m \u001b[32m━━━━━━━━━━━━━━━━━━━━\u001b[0m\u001b[37m\u001b[0m \u001b[1m0s\u001b[0m 14ms/step - accuracy: 0.4378 - loss: 0.7071 - val_accuracy: 0.4783 - val_loss: 0.6991\n",
      "Epoch 10/100\n",
      "\u001b[1m5/5\u001b[0m \u001b[32m━━━━━━━━━━━━━━━━━━━━\u001b[0m\u001b[37m\u001b[0m \u001b[1m0s\u001b[0m 13ms/step - accuracy: 0.4162 - loss: 0.7027 - val_accuracy: 0.4348 - val_loss: 0.6971\n",
      "Epoch 11/100\n",
      "\u001b[1m5/5\u001b[0m \u001b[32m━━━━━━━━━━━━━━━━━━━━\u001b[0m\u001b[37m\u001b[0m \u001b[1m0s\u001b[0m 12ms/step - accuracy: 0.4926 - loss: 0.6922 - val_accuracy: 0.5652 - val_loss: 0.6957\n",
      "Epoch 12/100\n",
      "\u001b[1m5/5\u001b[0m \u001b[32m━━━━━━━━━━━━━━━━━━━━\u001b[0m\u001b[37m\u001b[0m \u001b[1m0s\u001b[0m 12ms/step - accuracy: 0.3929 - loss: 0.6956 - val_accuracy: 0.3913 - val_loss: 0.6976\n",
      "Epoch 13/100\n",
      "\u001b[1m5/5\u001b[0m \u001b[32m━━━━━━━━━━━━━━━━━━━━\u001b[0m\u001b[37m\u001b[0m \u001b[1m0s\u001b[0m 13ms/step - accuracy: 0.4961 - loss: 0.6901 - val_accuracy: 0.4348 - val_loss: 0.6966\n",
      "Epoch 14/100\n",
      "\u001b[1m5/5\u001b[0m \u001b[32m━━━━━━━━━━━━━━━━━━━━\u001b[0m\u001b[37m\u001b[0m \u001b[1m0s\u001b[0m 13ms/step - accuracy: 0.5431 - loss: 0.6827 - val_accuracy: 0.5652 - val_loss: 0.6948\n",
      "Epoch 15/100\n",
      "\u001b[1m5/5\u001b[0m \u001b[32m━━━━━━━━━━━━━━━━━━━━\u001b[0m\u001b[37m\u001b[0m \u001b[1m0s\u001b[0m 13ms/step - accuracy: 0.4457 - loss: 0.6940 - val_accuracy: 0.5652 - val_loss: 0.6921\n",
      "Epoch 16/100\n",
      "\u001b[1m5/5\u001b[0m \u001b[32m━━━━━━━━━━━━━━━━━━━━\u001b[0m\u001b[37m\u001b[0m \u001b[1m0s\u001b[0m 12ms/step - accuracy: 0.4601 - loss: 0.6893 - val_accuracy: 0.5652 - val_loss: 0.6911\n",
      "Epoch 17/100\n",
      "\u001b[1m5/5\u001b[0m \u001b[32m━━━━━━━━━━━━━━━━━━━━\u001b[0m\u001b[37m\u001b[0m \u001b[1m0s\u001b[0m 13ms/step - accuracy: 0.3791 - loss: 0.7014 - val_accuracy: 0.6087 - val_loss: 0.6926\n",
      "Epoch 18/100\n",
      "\u001b[1m5/5\u001b[0m \u001b[32m━━━━━━━━━━━━━━━━━━━━\u001b[0m\u001b[37m\u001b[0m \u001b[1m0s\u001b[0m 13ms/step - accuracy: 0.3481 - loss: 0.6982 - val_accuracy: 0.5652 - val_loss: 0.6938\n",
      "Epoch 19/100\n",
      "\u001b[1m5/5\u001b[0m \u001b[32m━━━━━━━━━━━━━━━━━━━━\u001b[0m\u001b[37m\u001b[0m \u001b[1m0s\u001b[0m 14ms/step - accuracy: 0.4351 - loss: 0.6924 - val_accuracy: 0.5652 - val_loss: 0.6952\n",
      "Epoch 20/100\n",
      "\u001b[1m5/5\u001b[0m \u001b[32m━━━━━━━━━━━━━━━━━━━━\u001b[0m\u001b[37m\u001b[0m \u001b[1m0s\u001b[0m 13ms/step - accuracy: 0.4663 - loss: 0.6942 - val_accuracy: 0.5652 - val_loss: 0.6981\n",
      "Epoch 21/100\n",
      "\u001b[1m5/5\u001b[0m \u001b[32m━━━━━━━━━━━━━━━━━━━━\u001b[0m\u001b[37m\u001b[0m \u001b[1m0s\u001b[0m 10ms/step - accuracy: 0.5759 - loss: 0.6859 - val_accuracy: 0.4348 - val_loss: 0.7019\n",
      "Epoch 22/100\n",
      "\u001b[1m5/5\u001b[0m \u001b[32m━━━━━━━━━━━━━━━━━━━━\u001b[0m\u001b[37m\u001b[0m \u001b[1m0s\u001b[0m 12ms/step - accuracy: 0.5506 - loss: 0.6988 - val_accuracy: 0.4348 - val_loss: 0.7047\n",
      "Epoch 23/100\n",
      "\u001b[1m5/5\u001b[0m \u001b[32m━━━━━━━━━━━━━━━━━━━━\u001b[0m\u001b[37m\u001b[0m \u001b[1m0s\u001b[0m 13ms/step - accuracy: 0.5791 - loss: 0.6916 - val_accuracy: 0.4348 - val_loss: 0.7053\n",
      "Epoch 24/100\n",
      "\u001b[1m5/5\u001b[0m \u001b[32m━━━━━━━━━━━━━━━━━━━━\u001b[0m\u001b[37m\u001b[0m \u001b[1m0s\u001b[0m 13ms/step - accuracy: 0.6130 - loss: 0.6830 - val_accuracy: 0.4348 - val_loss: 0.7048\n",
      "Epoch 25/100\n",
      "\u001b[1m5/5\u001b[0m \u001b[32m━━━━━━━━━━━━━━━━━━━━\u001b[0m\u001b[37m\u001b[0m \u001b[1m0s\u001b[0m 10ms/step - accuracy: 0.5302 - loss: 0.6913 - val_accuracy: 0.4783 - val_loss: 0.7031\n",
      "Epoch 26/100\n",
      "\u001b[1m5/5\u001b[0m \u001b[32m━━━━━━━━━━━━━━━━━━━━\u001b[0m\u001b[37m\u001b[0m \u001b[1m0s\u001b[0m 12ms/step - accuracy: 0.5428 - loss: 0.6957 - val_accuracy: 0.4348 - val_loss: 0.7008\n"
     ]
    }
   ],
   "source": [
    "callbacks = [\n",
    "    tf.keras.callbacks.EarlyStopping(patience=10, restore_best_weights=True)\n",
    "]\n",
    "\n",
    "history = model.fit(\n",
    "    X_train, y_train,\n",
    "    epochs=100,\n",
    "    batch_size=32,\n",
    "    validation_split=0.15,\n",
    "    class_weight=class_weights,\n",
    "    callbacks=callbacks,\n",
    "    verbose=1\n",
    ")\n"
   ]
  },
  {
   "cell_type": "code",
   "execution_count": 12,
   "id": "093591b1-b603-4616-82da-655601a0c340",
   "metadata": {},
   "outputs": [
    {
     "name": "stdout",
     "output_type": "stream",
     "text": [
      "TEST balanced-accuracy : 0.5\n",
      "Abnormal recall : 1.0\n",
      "[[ 0 25]\n",
      " [ 0 14]]\n"
     ]
    },
    {
     "data": {
      "image/png": "[encoded data removed]",
      "text/plain": [
       "<Figure size 640x480 with 1 Axes>"
      ]
     },
     "metadata": {},
     "output_type": "display_data"
    }
   ],
   "source": [
    "import matplotlib.pyplot as plt\n",
    "from sklearn.metrics import balanced_accuracy_score, recall_score\n",
    "\n",
    "# probability predictions\n",
    "probs_seq = model.predict(X_test, verbose=0).ravel()\n",
    "\n",
    "# default cut 0.5\n",
    "y_pred = (probs_seq >= 0.5).astype(int)\n",
    "\n",
    "print(\"TEST balanced-accuracy :\", round(balanced_accuracy_score(y_test, y_pred), 3))\n",
    "print(\"Abnormal recall :\", round(recall_score(y_test, y_pred), 3))\n",
    "print(confusion_matrix(y_test, y_pred))\n",
    "\n",
    "# ---- simple ROC to choose a threshold like before if needed ----------\n",
    "from sklearn.metrics import roc_curve\n",
    "fpr, tpr, thr = roc_curve(y_test, probs_seq)\n",
    "plt.plot(fpr, tpr); plt.xlabel(\"FPR\"); plt.ylabel(\"TPR\"); plt.title(\"ROC\");\n"
   ]
  },
  {
   "cell_type": "code",
   "execution_count": null,
   "id": "23e8cb21-4ef2-4668-9b2e-27233775cd12",
   "metadata": {},
   "outputs": [],
   "source": []
  },
  {
   "cell_type": "code",
   "execution_count": null,
   "id": "4c53ffa0-7256-44e0-bba9-9153d1386536",
   "metadata": {},
   "outputs": [],
   "source": []
  }
 ],
 "metadata": {
  "kernelspec": {
   "display_name": "Python 3 (ipykernel)",
   "language": "python",
   "name": "python3"
  },
  "language_info": {
   "codemirror_mode": {
    "name": "ipython",
    "version": 3
   },
   "file_extension": ".py",
   "mimetype": "text/x-python",
   "name": "python",
   "nbconvert_exporter": "python",
   "pygments_lexer": "ipython3",
   "version": "3.11.9"
  }
 },
 "nbformat": 4,
 "nbformat_minor": 5
}
